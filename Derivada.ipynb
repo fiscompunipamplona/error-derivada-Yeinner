{
 "cells": [
  {
   "cell_type": "markdown",
   "metadata": {},
   "source": [
    "# Derivada $\\delta=10^{-2}$ y comparación con resultado analítico y su Error"
   ]
  },
  {
   "cell_type": "code",
   "execution_count": 6,
   "metadata": {},
   "outputs": [
    {
     "name": "stdout",
     "output_type": "stream",
     "text": [
      "1.010000000000001\n",
      "El resultado analítico es:  1\n",
      "El Error es:  1.0000000000000897 %\n"
     ]
    }
   ],
   "source": [
    "from math import*\n",
    "from pylab import*\n",
    "from numpy import*\n",
    "x=1\n",
    "d=1e-2\n",
    "f=((x+d)*((x+d)-1))/(d)\n",
    "print(f)\n",
    "an=(x-1)+x\n",
    "print(\"El resultado analítico es: \", an)\n",
    "Error=(abs(an-f))*100\n",
    "print(\"El Error es: \", Error, \"%\")"
   ]
  },
  {
   "cell_type": "markdown",
   "metadata": {},
   "source": [
    "# Derivas con  $\\delta$ desde $10^{-2}$ a $10^{-14}$ y el Error respectivo"
   ]
  },
  {
   "cell_type": "code",
   "execution_count": 4,
   "metadata": {},
   "outputs": [
    {
     "name": "stdout",
     "output_type": "stream",
     "text": [
      "\n",
      " Para 0.01 La derivada es:  1.010000000000001 Con Error= 1.0000000000000897 %\n",
      "\n",
      " Para 0.0001 La derivada es:  1.0000999999998899 Con Error= 0.009999999988985486 %\n",
      "\n",
      " Para 1e-06 La derivada es:  1.0000009999177333 Con Error= 9.99917733279787e-05 %\n",
      "\n",
      " Para 1e-08 La derivada es:  1.0000000039225287 Con Error= 3.9225287462585356e-07 %\n",
      "\n",
      " Para 1e-10 La derivada es:  1.000000082840371 Con Error= 8.284037100736441e-06 %\n",
      "\n",
      " Para 1e-12 La derivada es:  1.0000889005833413 Con Error= 0.008890058334132256 %\n",
      "\n",
      " Para 1e-14 La derivada es:  0.9992007221626509 Con Error= 0.07992778373491216 %\n"
     ]
    }
   ],
   "source": [
    "x=1\n",
    "a=[]\n",
    "for i in range(2, 16, 2):\n",
    "    d=10**-i\n",
    "    a.append(d)\n",
    "#print('a=',a)\n",
    "for i in a:\n",
    "    f=((x+i)*((x+i)-1))/(i)\n",
    "    e=abs(an-f)*100\n",
    "    print(\"\\n Para\", i, \"La derivada es: \",f, \"Con Error=\", e, \"%\")\n",
    "    "
   ]
  },
  {
   "cell_type": "markdown",
   "metadata": {},
   "source": [
    "El error va decreciendo hasta que $\\delta=10^{-8}$, después se incrementa cuando $\\delta$ va disminuyendo "
   ]
  },
  {
   "cell_type": "code",
   "execution_count": null,
   "metadata": {},
   "outputs": [],
   "source": []
  }
 ],
 "metadata": {
  "kernelspec": {
   "display_name": "Python 3",
   "language": "python",
   "name": "python3"
  },
  "language_info": {
   "codemirror_mode": {
    "name": "ipython",
    "version": 3
   },
   "file_extension": ".py",
   "mimetype": "text/x-python",
   "name": "python",
   "nbconvert_exporter": "python",
   "pygments_lexer": "ipython3",
   "version": "3.5.2"
  }
 },
 "nbformat": 4,
 "nbformat_minor": 2
}
